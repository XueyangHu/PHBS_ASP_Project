{
 "cells": [
  {
   "cell_type": "markdown",
   "metadata": {},
   "source": [
    "# Conditional MC of Heston Model based on QE Scheme"
   ]
  },
  {
   "cell_type": "markdown",
   "metadata": {},
   "source": [
    "## QE Discretization Scheme for Heston Model "
   ]
  },
  {
   "cell_type": "markdown",
   "metadata": {},
   "source": [
    "<font color=black size=3 face=times>**Main references**: <br>\n",
    "         Andersen, L. (2008). Simple and efficient simulation of the Heston stochastic volatility model. *The Journal of Computational Finance, 11*(3), 1–42. https://doi.org/10.21314/JCF.2008.189 <br>\n",
    "        Van Haastrecht, A., & Pelsser, A. (2010). Efficient, almost exact simulation of the heston stochastic volatility model. *International Journal of Theoretical and Applied Finance, 13*(01), 1–43. https://doi.org/10.1142/S0219024910005668 <br>"
   ]
  },
  {
   "cell_type": "markdown",
   "metadata": {},
   "source": [
    "<font color=black size=3 face=times>**1.1. Notation declaration**<br>\n",
    "The SDE of Heston model expressed by:\n",
    "    <br/>\n",
    "    \\begin{align*}\n",
    "    &dX(t)/X(t)=\\sqrt{V(t)}dW_X(t) ,\\\\\n",
    "    &dV(t)=\\kappa(\\theta-V(t))dt+\\epsilon\\sqrt{V(t)}dW_V(t),\n",
    "    \\end{align*} \n",
    "- $W_X$ and $W_V$ are scalar Brownian motions in some probability measure and assume that $dW_X(t)\\dot dW_Y(t)=\\rho dt$  \n",
    "- $\\widehat{X}$ and $\\widehat{V}$ denote discrete-time approximations to $X$ and $V$, i.e. The basic **Euler Scheme** would take the form:\n",
    " \\begin{align*}\n",
    "    ln\\widehat{X}(t+\\Delta)&=ln\\widehat{X}(t)-\\frac{1}{2}\\widehat{V}(t)\\Delta+\\sqrt{\\widehat{V}(t)}Z_X\\sqrt{\\Delta} ,\\\\\n",
    "    ln\\widehat{V}(t+\\Delta)&=\\widehat{V}(t)+\\kappa(\\theta-\\widehat{V}(t))\\Delta+\\epsilon\\sqrt{\\widehat{V}(t)}Z_V\\sqrt{\\Delta},\n",
    "    \\end{align*}  \n",
    "- $V(t),V(t+\\Delta)$ are sampled directly from the known conditional distribution of $V(t)$ and $lnX(t),lnX(t+\\Delta)$ are from Gaussian distribution. "
   ]
  },
  {
   "cell_type": "markdown",
   "metadata": {},
   "source": [
    "<font color=black size=3 face=times>**1.2. General discrete-time approximation schemes**<br>\n",
    "    &emsp;&emsp;<font color=black size=3 face=times>**Kahl-Jackel Scheme**<br>\n",
    "    &emsp;&emsp;Using Milstein scheme to discretize the V-process and \"IJK\" discretization for the stock process:\n",
    "    \\begin{align*}\n",
    "    ln\\widehat{X}(t+\\Delta)&=ln\\widehat{X}(t)-\\frac{\\Delta}{4}(\\widehat{V}(t+\\Delta)+\\widehat{V}(t))+\\rho\\sqrt{\\widehat{V}(t)}Z_V\\sqrt{\\Delta}+\\frac{1}{2}\\left(\\sqrt{\\widehat{V}(t+\\Delta)}+\\sqrt{\\widehat{V}(t)}\\right)(Z_X\\sqrt{\\Delta}-\\rho Z_V\\sqrt{\\Delta})+\\frac{1}{4}\\epsilon\\rho\\Delta(Z_V^2-1),\\tag{$1.1$}\\\\\n",
    "    \\widehat{V}(t+\\Delta) &= \\frac{\\widehat{V}(t)+\\kappa\\theta\\Delta+\\epsilon\\sqrt{\\widehat{V}(t)}Z_V\\sqrt{\\Delta}+\\frac{1}{4}\\epsilon^2\\Delta(Z_V^2-1)}{1+\\kappa\\Delta}, \\tag{$1.2$}\n",
    "    \\end{align*}\n",
    "    <br/>\n",
    "    &emsp;&emsp;<font color=black size=3 face=times>**Broadie-Kaya Scheme**<br>\n",
    "\\begin{align*}\n",
    "    V(t+\\Delta)&=V(t)+\\int_{t}^{t+\\Delta}\\kappa(\\theta-V(u))du+\\epsilon \\int_{t}^{t+\\Delta}\\sqrt{V(u)}dW_V(u) ,\\tag{$1.3$}\\\\\n",
    "    lnX(t+\\Delta)&=lnX(t)+\\frac{\\rho}{\\epsilon}(V(t+\\Delta)-V(t)-\\kappa\\theta\\Delta)+(\\frac{\\kappa\\rho}{\\epsilon}-\\frac{1}{2})\\int_{t}^{t+\\Delta}V(u)du+\\sqrt{1-\\rho^2}\\int_{t}^{t+\\Delta}\\sqrt{V(u)}dW(u), \\tag{$1.4$}\n",
    "    \\end{align*}"
   ]
  },
  {
   "cell_type": "markdown",
   "metadata": {},
   "source": [
    "<font color=black size=3 face=times>**1.3. TG Scheme**<br>\n",
    "        &emsp;&emsp; The TG (Truncated Gaussian) Scheme writes\n",
    "    $$\\widehat{V}(t+\\Delta)=(\\mu+\\sigma\\dot Z_V)^{+},\\tag{$1.5$}$$\n",
    "    &emsp;&emsp; where $Z_V$ is a standart Gaussian random variable, and $\\mu$ and $\\sigma$ are constants that will depend on the time-step $\\Delta$ and $\\widehat{V}(t)$, as well as the parameters in the SDE for $V$.<br>\n",
    "    &emsp;&emsp;Let:\n",
    "    \\begin{align*}\n",
    "    m&=\\theta+(\\widehat{V}(t)-\\theta)e^{-\\kappa\\Delta},\\tag{$1.6$}\\\\\n",
    "    s^2&=\\frac{\\widehat{V}(t)\\epsilon^2 e^{-\\kappa\\Delta}}{\\kappa}(1-e^{-\\kappa\\Delta})+\\frac{\\theta\\epsilon^2}{2\\kappa}(1-e^{-\\kappa\\Delta})^2,\\tag{$1.7$}\\\\\n",
    "    \\Psi&\\equiv s^2/m^2 =\\frac{\\frac{\\widehat{V}(t)\\epsilon^2 e^{-\\kappa\\Delta}}{\\kappa}(1-e^{-\\kappa\\Delta})+\\frac{\\theta\\epsilon^2}{2\\kappa}(1-e^{-\\kappa\\Delta})^2}{(\\theta+(\\widehat{V}(t)-\\theta)e^{-\\kappa\\Delta})^2}, \\tag{$1.8$}\n",
    "    \\end{align*}\n",
    "    &emsp;&emsp; Define the ratio $r=\\mu/\\sigma$, match the mean to $m$ results in:\n",
    "    $$\\mu=\\frac{m}{r^{-1}\\phi(r)+\\Phi(r)};\\quad \\sigma=r^{-1}\\mu=\\frac{m}{\\phi(r)+r\\Phi(r)}$$\n",
    "    &emsp;&emsp; where $\\phi$ is pdf of normal distribution and $\\Phi$ is cdf of normal distribution.\n",
    "    \\begin{align*}\n",
    "    &\\mu=f_{\\mu}(\\Psi)\\cdot m,\\quad f_{\\mu}(\\Psi)=\\frac{r(\\Psi)}{\\phi(r(\\Psi))+r(\\Psi)\\Phi(r(\\Psi))},\\tag{$1.9$}\\\\\n",
    "    &\\sigma=f_{\\sigma}(\\Psi)\\cdot s,\\quad f_{\\sigma}(\\Psi)=\\frac{\\Psi^{-1/2}}{\\phi(r(\\Psi))+r(\\Psi)\\Phi(r(\\Psi))},\\tag{$1.10$}\n",
    "    \\end{align*}\n",
    "    &emsp;&emsp;The detailed algorithm for the TG simulation step from $\\widehat{V}(t)$ to $\\widehat{V}(t+\\Delta)$ is as follows:<br>\n",
    "    &emsp;&emsp;1.Given $\\widehat{V}(t)$, compute $m$ and $s^2$ from (1.6) and (1.7).<br>\n",
    "    &emsp;&emsp;2.Compute $\\Psi=s^2/m^2$ and look up $f_{\\mu}(\\Psi)$ and $f_{\\sigma}(\\Psi)$ from cache<br>\n",
    "    &emsp;&emsp;3.Compute $\\mu$ and $\\sigma$ according to equations (1.9) and (1.10)<br>\n",
    "    &emsp;&emsp;4.Compute $Z_V=\\Phi^{-1}(U_V)$<br>\n",
    "    &emsp;&emsp;5.Set $\\widehat{V}(t+\\Delta)=(\\mu+\\sigma\\dot Z_V)^{+}$"
   ]
  },
  {
   "cell_type": "markdown",
   "metadata": {},
   "source": [
    "<font color=black size=3 face=times>**1.4. QE Scheme**<br>\n",
    "    &emsp;&emsp; For the non-central chi-square distribution approaches a Gaussian distribution as the non-centrality paremeter approaches $\\infty$, but for small $V(t)$, the non-centrality parameter approaches zero, and the Gaussian variable is typically not accurate.<br>\n",
    "    &emsp;&emsp; For sufficiently large values of $\\widehat{V}(t)$, we write:\n",
    "    $$\\widehat{V}(t+\\Delta)=a(b+Z_V)^2,\\tag{$1.11$}$$\n",
    "    &emsp;&emsp; For low values of $\\widehat{V}(t)$, we use asymptotic density and approximated density for $\\widehat{V}(t+\\Delta)$, we have the form:\n",
    "        $$\\Psi^{-1}(u)=\\Psi^{-1}(u;p,\\beta)=\\left\\{\n",
    "\\begin{aligned}\n",
    "&0,  & 0\\le u\\le p \\\\\n",
    "&\\beta^{-1}ln(\\frac{1-p}{1-u}),& p<u\\le1.\n",
    "\\end{aligned},\\tag{$1.12$}\n",
    "\\right.\n",
    "$$\n",
    "    &emsp;&emsp; The scheme varies when $\\Psi$ is big and when $\\Psi$ is small.<br>\n",
    "    &emsp;&emsp; Assume that some arbitrary level $\\Psi_c\\in [1,2]$ has beem selected. The detailed algorithm for the QE simulation step from $\\widehat{V}(t)$ to $\\widehat{V}(t+\\Delta)$ is then:<br>\n",
    "    &emsp;&emsp;1. Given $\\widehat{V}(t)$, compute $m$ and $s^2$ from the equations (1.6) and (1.7).<br>\n",
    "    &emsp;&emsp;2. Compute $\\Psi=s^2/m^2$<br>\n",
    "    &emsp;&emsp;3. Draw a uniform random number $U_V$<br>\n",
    "    &emsp;&emsp;4. **If** $\\Psi\\leq \\Psi_c$:<br>\n",
    "    &emsp;&emsp;&emsp;&emsp;(a) Compute a and b as:\n",
    "    \\begin{align*}\n",
    "    &b^2=2\\Psi^{-1}-1+\\sqrt{2\\Psi^{-1}}\\sqrt{{2\\Psi^{-1}-1}}\\ge 0,\\tag{$1.13$}\\\\\n",
    "    &a=\\frac{m}{1+b^2},\\tag{$1.14$}\\\\\n",
    "    \\end{align*}\n",
    "    &emsp;&emsp;&emsp;&emsp;(b) Compute $Z_V=\\Phi^{-1}(U_V)$<br>\n",
    "    &emsp;&emsp;&emsp;&emsp;(c) Set $\\widehat{V}(t+\\Delta)=a(b+Z_V)^2$<br>\n",
    "    &emsp;&emsp;5.**Otherwise**, if $\\Psi>\\Psi_c$:<br>\n",
    "    &emsp;&emsp;&emsp;&emsp;(a) Compute $\\beta$ and $p$ as:\n",
    "    \\begin{align*}\n",
    "    &p=\\frac{\\Psi-1}{\\Psi+1}\\in [0,1),\\tag{$1.15$}\\\\\n",
    "    &\\beta=\\frac{1-p}{m}=\\frac{2}{m(\\Psi+1)}>0,\\tag{$1.16$}\\\\\n",
    "    \\end{align*}\n",
    "    &emsp;&emsp;&emsp;&emsp;(b) Set $\\widehat{V}(t+\\Delta)=\\Psi^{-1}(U_V;p,\\beta)$, where $\\Psi^{-1}$ is given at (1.12)<br>\n",
    "    &emsp;&emsp; After simulating the path, calculate:\n",
    "\\begin{align*}\n",
    "     E\\left(S_T|V(T),\\int V(t)dt\\right)&=S_0 exp\\left(\\frac{\\rho}{\\nu}(V(T)-V(0))-\\kappa(\\theta-\\int_{0}^{T}V(t)dt)\\right),\\tag{$1.17$}\\\\\n",
    "     \\sigma&=\\left((1-\\rho^2)\\int_{0}^{T}V(t)dt\\right)^{\\frac{1}{2}},\\tag{$1.18$}\\\\\n",
    "    \\end{align*}\n",
    "    &emsp;&emsp; Then bring the Forward price and volatility into the bsm option pricing model."
   ]
  },
  {
   "cell_type": "code",
   "execution_count": 28,
   "metadata": {},
   "outputs": [],
   "source": [
    "import numpy as np\n",
    "import heston_cmc_qe as heston\n",
    "import time\n",
    "import pyfeng as pf\n",
    "import matplotlib.pyplot as plt\n",
    "from tqdm import tqdm"
   ]
  },
  {
   "cell_type": "markdown",
   "metadata": {},
   "source": [
    "## Andersen's (2008) and Van's (2010) examples, with multiple strikes and single spot"
   ]
  },
  {
   "cell_type": "code",
   "execution_count": 29,
   "metadata": {},
   "outputs": [],
   "source": [
    "# Examples\n",
    "# Andersen (2008)\n",
    "strike = [100.0, 140.0, 70.0]\n",
    "forward = 100\n",
    "delta = [1, 1/2, 1/4, 1/8, 1/16, 1/32]\n",
    "case = np.zeros([3, 7])\n",
    "#case[i]=[vov, kappa, rho, texp, theta,  sigma,     r]\n",
    "case[0] = [1,   0.5, -0.9, 10, 0.04, np.sqrt(0.04), 0]\n",
    "case[1] = [0.9, 0.3, -0.5, 15, 0.04, np.sqrt(0.04), 0]\n",
    "case[2] = [1,   1,   -0.3, 5,  0.09, np.sqrt(0.09), 0]"
   ]
  },
  {
   "cell_type": "code",
   "execution_count": 30,
   "metadata": {},
   "outputs": [],
   "source": [
    "# Van (2010)\n",
    "strike = [100.0, 140.0, 60.0]\n",
    "forward = 100\n",
    "delta = [1, 1/2, 1/4, 1/8, 1/16, 1/32]\n",
    "case = np.zeros([3, 7])\n",
    "#case[i]=[vov, kappa, rho, texp, theta,   sigma,    r]\n",
    "case[0] = [1,   0.5, -0.9, 10, 0.04, np.sqrt(0.04), 0]\n",
    "case[1] = [1,   1,   -0.3, 5,  0.09, np.sqrt(0.09), 0.05]\n",
    "case[2] = [0.9, 0.3, -0.5, 15, 0.04, np.sqrt(0.04), 0]\n",
    "ref_price = np.array([[13.085, 0.296, 44.330], [33.597, 18.157, 56.575], [16.649, 5.138, 45.287]])"
   ]
  },
  {
   "cell_type": "code",
   "execution_count": 31,
   "metadata": {},
   "outputs": [],
   "source": [
    "price_cmc = np.zeros([case.shape[0], len(delta), len(strike)])\n",
    "bias_cmc = np.zeros_like(price_cmc)"
   ]
  },
  {
   "cell_type": "markdown",
   "metadata": {},
   "source": [
    "### Compute conditional MC price and bias"
   ]
  },
  {
   "cell_type": "markdown",
   "metadata": {},
   "source": [
    "When path=1e6, computation is time-consuming (especially for texp=15), separate the three cases to get stable computation"
   ]
  },
  {
   "cell_type": "code",
   "execution_count": 5,
   "metadata": {},
   "outputs": [
    {
     "name": "stdout",
     "output_type": "stream",
     "text": [
      "Case 0:\n",
      "computed price\n",
      "[[14.52988166  0.1954481  45.5566836 ]\n",
      " [13.58264697  0.26538629 44.59576156]\n",
      " [13.18875382  0.29164219 44.35693654]\n",
      " [13.09245767  0.29643382 44.32630416]\n",
      " [13.09234981  0.29612097 44.3554616 ]\n",
      " [13.0747208   0.29571157 44.30422413]]\n",
      "bias\n",
      "[[ 1.44488166 -0.1005519   1.2266836 ]\n",
      " [ 0.49764697 -0.03061371  0.26576156]\n",
      " [ 0.10375382 -0.00435781  0.02693654]\n",
      " [ 0.00745767  0.00043382 -0.00369584]\n",
      " [ 0.00734981  0.00012097  0.0254616 ]\n",
      " [-0.0102792  -0.00028843 -0.02577587]]\n",
      "Running time is 1239.845 seconds.\n",
      "\n"
     ]
    }
   ],
   "source": [
    "i = 0\n",
    "vov, kappa, rho, texp, theta, sigma, r = case[i]\n",
    "\n",
    "start = time.time()\n",
    "heston_cmc_qe = heston.HestonCondMcQE(vov=vov, kappa=kappa, rho=rho, theta=theta)\n",
    "\n",
    "for d in range(len(delta)):\n",
    "    price_cmc[i, d, :] = heston_cmc_qe.price(strike, forward, texp, sigma=sigma, delta=delta[d], intr=r, path=1e6, seed=123456)\n",
    "    bias_cmc[i, d, :] = price_cmc[i, d, :] - ref_price[i, :]\n",
    "\n",
    "end = time.time()\n",
    "\n",
    "print('Case %s:' % i)\n",
    "np.set_printoptions(suppress=True)\n",
    "print('computed price')\n",
    "print(price_cmc[i, :, :])\n",
    "\n",
    "print('bias')\n",
    "print(bias_cmc[i, :, :])\n",
    "print('Running time is %.3f seconds.' % (end - start) + '\\n')"
   ]
  },
  {
   "cell_type": "code",
   "execution_count": 6,
   "metadata": {},
   "outputs": [
    {
     "name": "stdout",
     "output_type": "stream",
     "text": [
      "Case 1:\n",
      "computed price\n",
      "[[33.73639816 17.45658862 56.93686071]\n",
      " [33.6862614  17.7939801  56.72279494]\n",
      " [33.62950685 18.06468289 56.61902551]\n",
      " [33.60258667 18.14381343 56.57858711]\n",
      " [33.59659541 18.15261599 56.57703292]\n",
      " [33.59741061 18.15529961 56.5780489 ]]\n",
      "bias\n",
      "[[ 0.13939816 -0.70041138  0.36186071]\n",
      " [ 0.0892614  -0.3630199   0.14779494]\n",
      " [ 0.03250685 -0.09231711  0.04402551]\n",
      " [ 0.00558667 -0.01318657  0.00358711]\n",
      " [-0.00040459 -0.00438401  0.00203292]\n",
      " [ 0.00041061 -0.00170039  0.0030489 ]]\n",
      "Running time is 681.720 seconds.\n",
      "\n"
     ]
    }
   ],
   "source": [
    "i = 1\n",
    "vov, kappa, rho, texp, theta, sigma, r = case[i]\n",
    "\n",
    "start = time.time()\n",
    "heston_cmc_qe = heston.HestonCondMcQE(vov=vov, kappa=kappa, rho=rho, theta=theta)\n",
    "\n",
    "for d in range(len(delta)):\n",
    "    price_cmc[i, d, :] = heston_cmc_qe.price(strike, forward, texp, sigma=sigma, delta=delta[d], intr=r, path=1e6, seed=123456)\n",
    "    bias_cmc[i, d, :] = price_cmc[i, d, :] - ref_price[i, :]\n",
    "\n",
    "end = time.time()\n",
    "\n",
    "print('Case %s:' % i)\n",
    "np.set_printoptions(suppress=True)\n",
    "print('computed price')\n",
    "print(price_cmc[i, :, :])\n",
    "\n",
    "print('bias')\n",
    "print(bias_cmc[i, :, :])\n",
    "print('Running time is %.3f seconds.' % (end - start) + '\\n')"
   ]
  },
  {
   "cell_type": "code",
   "execution_count": 32,
   "metadata": {},
   "outputs": [
    {
     "name": "stdout",
     "output_type": "stream",
     "text": [
      "Case 2:\n",
      "computed price\n",
      "[[16.14957874  4.76025232 45.57843546]\n",
      " [16.4168519   5.03174927 45.37411979]\n",
      " [16.61786281  5.14344251 45.32220412]\n",
      " [16.64846896  5.14132547 45.30859454]\n",
      " [16.67691989  5.15529418 45.32730755]\n",
      " [16.64978732  5.12726313 45.32411027]]\n",
      "bias\n",
      "[[-0.49942126 -0.37774768  0.29143546]\n",
      " [-0.2321481  -0.10625073  0.08711979]\n",
      " [-0.03113719  0.00544251  0.03520412]\n",
      " [-0.00053104  0.00332547  0.02159454]\n",
      " [ 0.02791989  0.01729418  0.04030755]\n",
      " [ 0.00078732 -0.01073687  0.03711027]]\n",
      "Running time is 133.427 seconds.\n",
      "\n"
     ]
    }
   ],
   "source": [
    "# take quite a long time to compute when path=1e6, try 1e5 first\n",
    "i = 2\n",
    "vov, kappa, rho, texp, theta, sigma, r = case[i]\n",
    "\n",
    "start = time.time()\n",
    "heston_cmc_qe = heston.HestonCondMcQE(vov=vov, kappa=kappa, rho=rho, theta=theta)\n",
    "\n",
    "for d in range(len(delta)):\n",
    "    price_cmc[i, d, :] = heston_cmc_qe.price(strike, forward, texp, sigma=sigma, delta=delta[d], intr=r, path=1e5, seed=123456)\n",
    "    bias_cmc[i, d, :] = price_cmc[i, d, :] - ref_price[i, :]\n",
    "\n",
    "end = time.time()\n",
    "\n",
    "print('Case %s:' % i)\n",
    "np.set_printoptions(suppress=True)\n",
    "print('computed price')\n",
    "print(price_cmc[i, :, :])\n",
    "\n",
    "print('bias')\n",
    "print(bias_cmc[i, :, :])\n",
    "print('Running time is %.3f seconds.' % (end - start) + '\\n')"
   ]
  },
  {
   "cell_type": "markdown",
   "metadata": {},
   "source": [
    "### Compute std error of conditional MC price"
   ]
  },
  {
   "cell_type": "code",
   "execution_count": 8,
   "metadata": {},
   "outputs": [
    {
     "name": "stderr",
     "output_type": "stream",
     "text": [
      "100%|██████████████████████████████████████████████████████████████████████████████████| 50/50 [08:15<00:00,  9.92s/it]\n"
     ]
    },
    {
     "name": "stdout",
     "output_type": "stream",
     "text": [
      "Case 0:\n",
      "computed price\n",
      "[[14.5203858   0.19509451 45.52203955]\n",
      " [13.58136981  0.26529004 44.59468135]\n",
      " [13.19609127  0.29187395 44.37059131]\n",
      " [13.09018819  0.29703984 44.33355136]\n",
      " [13.07406605  0.29696865 44.32439902]\n",
      " [13.09832797  0.29585805 44.37110991]]\n",
      "std error of conditional MC\n",
      "[[0.08852271 0.00213495 0.21807294]\n",
      " [0.08330737 0.00297587 0.19164552]\n",
      " [0.09267493 0.00287989 0.2265294 ]\n",
      " [0.07733342 0.00215729 0.20412114]\n",
      " [0.08064352 0.00247084 0.21281211]\n",
      " [0.0833296  0.00249145 0.20760677]]\n",
      "Running time is 496.367 seconds.\n",
      "\n"
     ]
    },
    {
     "name": "stderr",
     "output_type": "stream",
     "text": [
      "100%|██████████████████████████████████████████████████████████████████████████████████| 50/50 [04:29<00:00,  5.39s/it]\n"
     ]
    },
    {
     "name": "stdout",
     "output_type": "stream",
     "text": [
      "Case 1:\n",
      "computed price\n",
      "[[33.73147729 17.46024923 56.91830707]\n",
      " [33.66953472 17.78586023 56.68978114]\n",
      " [33.61313031 18.05692271 56.59042084]\n",
      " [33.6088894  18.13794643 56.59842828]\n",
      " [33.60424631 18.161567   56.58718949]\n",
      " [33.59115304 18.16558111 56.55645369]]\n",
      "std error of conditional MC\n",
      "[[0.04781501 0.03737528 0.10749406]\n",
      " [0.05483284 0.0346728  0.12074765]\n",
      " [0.05173381 0.04028025 0.12492807]\n",
      " [0.0524559  0.03855589 0.10787887]\n",
      " [0.05449511 0.03000034 0.11958618]\n",
      " [0.05609015 0.04441259 0.12018084]]\n",
      "Running time is 269.295 seconds.\n",
      "\n"
     ]
    },
    {
     "name": "stderr",
     "output_type": "stream",
     "text": [
      "100%|██████████████████████████████████████████████████████████████████████████████████| 50/50 [12:41<00:00, 15.24s/it]\n"
     ]
    },
    {
     "name": "stdout",
     "output_type": "stream",
     "text": [
      "Case 2:\n",
      "computed price\n",
      "[[16.1383193   4.76316836 45.52326353]\n",
      " [16.44624442  5.06940902 45.35128819]\n",
      " [16.60917412  5.14335922 45.29290186]\n",
      " [16.64953119  5.14682309 45.2867721 ]\n",
      " [16.66243944  5.1412643  45.31990055]\n",
      " [16.65227454  5.14796606 45.26376083]]\n",
      "std error of conditional MC\n",
      "[[0.04599494 0.05836611 0.10952485]\n",
      " [0.03766147 0.05338242 0.10951823]\n",
      " [0.03722262 0.04141417 0.1002134 ]\n",
      " [0.04465307 0.04900011 0.09765122]\n",
      " [0.04190097 0.04429235 0.11276059]\n",
      " [0.04286761 0.04579411 0.0936633 ]]\n",
      "Running time is 762.000 seconds.\n",
      "\n"
     ]
    }
   ],
   "source": [
    "n = 50\n",
    "for i in range(case.shape[0]):\n",
    "    start = time.time()\n",
    "    vov, kappa, rho, texp, theta, sigma, r = case[i]\n",
    "\n",
    "    heston_cmc_qe = heston.HestonCondMcQE(vov=vov, kappa=kappa, rho=rho, theta=theta)\n",
    "    price_cmc = np.zeros([n, len(delta), len(strike)])\n",
    "    for j in tqdm(range(n)):\n",
    "        for d in range(len(delta)):\n",
    "            price_cmc[j, d, :] = heston_cmc_qe.price(strike, forward, texp, sigma=sigma, delta=delta[d], intr=r, path=1e4)\n",
    "            \n",
    "    end = time.time()\n",
    "    print('Case %s:' % i)\n",
    "    print('computed price')\n",
    "    print(price_cmc.mean(axis=0))\n",
    "    print('std error of conditional MC')\n",
    "    print(price_cmc.std(axis=0))\n",
    "    print('Running time is %.3f seconds.' % (end - start) + '\\n')"
   ]
  },
  {
   "cell_type": "markdown",
   "metadata": {},
   "source": [
    "### Compare the model with {Conditional MC with TG/Euler Scheme, Exact MC, Almost Exact MC}"
   ]
  },
  {
   "cell_type": "code",
   "execution_count": 22,
   "metadata": {},
   "outputs": [],
   "source": [
    "# from comparison import heston_exact\n",
    "from comparison import heston_ae as heston_mc_ae"
   ]
  },
  {
   "cell_type": "code",
   "execution_count": 23,
   "metadata": {},
   "outputs": [],
   "source": [
    "delta = 1/32\n",
    "path = int(1e5)\n",
    "n_comp = 5\n",
    "price_comp = np.zeros([n_comp, case.shape[0], len(strike)])\n",
    "bias_comp = np.zeros_like(price_comp)"
   ]
  },
  {
   "cell_type": "code",
   "execution_count": 24,
   "metadata": {},
   "outputs": [
    {
     "name": "stdout",
     "output_type": "stream",
     "text": [
      "Case 0:\n",
      "CMC (QE scheme)\n",
      "[ 0.00547939 -0.00052279  0.01474341]\n",
      "CMC (TG scheme)\n",
      "[1.97954717 0.01687513 5.86859053]\n",
      "CMC (Euler scheme)\n",
      "[ 1.49310896 -0.02238877  2.02162053]\n",
      "AE MC\n",
      "[5.63876284 2.09470688 2.59445731]\n",
      "Running time is 765.639 seconds.\n",
      "\n",
      "Case 1:\n",
      "CMC (QE scheme)\n",
      "[0.00827156 0.00920125 0.00939142]\n",
      "CMC (TG scheme)\n",
      "[ 1.11846791 -0.9974535   3.51022813]\n",
      "CMC (Euler scheme)\n",
      "[ 4.35302323 -4.79577966 10.66123182]\n",
      "AE MC\n",
      "[14.35920088 11.5782566  18.0751078 ]\n",
      "Running time is 227.263 seconds.\n",
      "\n"
     ]
    },
    {
     "name": "stderr",
     "output_type": "stream",
     "text": [
      "C:\\Python\\Anaconda3\\lib\\site-packages\\pyfeng\\bsm.py:54: RuntimeWarning: divide by zero encountered in log\n",
      "  d1 = np.log(fwd / strike) / sigma_std\n"
     ]
    },
    {
     "name": "stdout",
     "output_type": "stream",
     "text": [
      "Case 2:\n",
      "CMC (QE scheme)\n",
      "[ 0.00078732 -0.01073687  0.03711027]\n",
      "CMC (TG scheme)\n",
      "[-0.2337373  -1.31951397  3.0809294 ]\n",
      "CMC (Euler scheme)\n",
      "[ 0.88822398  1.4127693  -0.80204031]\n",
      "AE MC\n",
      "[7.36598418 5.72686588 3.62868416]\n",
      "Running time is 1593.530 seconds.\n",
      "\n"
     ]
    }
   ],
   "source": [
    "for i in range(case.shape[0]):\n",
    "    vov, kappa, rho, texp, theta, sigma, r = case[i]\n",
    "    \n",
    "    start = time.time()\n",
    "    heston_cmc_qe = heston.HestonCondMcQE(vov=vov, kappa=kappa, rho=rho, theta=theta)\n",
    "    heston_ae = heston_mc_ae.HestonMCAe(vov, kappa, rho, theta, r)\n",
    "#     heston_exact = \n",
    "    \n",
    "    price_comp[0, i, :] = heston_cmc_qe.price(strike, forward, texp, sigma=sigma, delta=delta, intr=r, path=path, seed=123456, scheme='QE')\n",
    "    bias_comp[0, i, :] = price_comp[0, i, :] - ref_price[i, :]\n",
    "    \n",
    "    price_comp[1, i, :] = heston_cmc_qe.price(strike, forward, texp, sigma=sigma, delta=delta, intr=r, path=path, seed=123456, scheme='TG')\n",
    "    bias_comp[1, i, :] = price_comp[1, i, :] - ref_price[i, :]\n",
    "    \n",
    "    price_comp[2, i, :] = heston_cmc_qe.price(strike, forward, texp, sigma=sigma, delta=delta, intr=r, path=path, seed=123456, scheme='Euler')\n",
    "    bias_comp[2, i, :] = price_comp[2, i, :] - ref_price[i, :]\n",
    "    \n",
    "#     price_comp[3, i, :]= heston_exact.price()\n",
    "#     bias_comp[3, i, :] = price_comp[3, i, :] - ref_price[i, :]\n",
    "    \n",
    "    price_comp[4, i, :]= heston_ae.price(strike, forward, texp, sigma, n_paths=int(path), intr=0, divr=0)\n",
    "    bias_comp[4, i, :] = price_comp[4, i, :] - ref_price[i, :]\n",
    "\n",
    "    end = time.time()\n",
    "    \n",
    "    print('Case %s:' % i)\n",
    "    np.set_printoptions(suppress=True)\n",
    "\n",
    "    print('CMC (QE scheme)')\n",
    "    print(bias_comp[0, i, :])\n",
    "    print('CMC (TG scheme)')\n",
    "    print(bias_comp[1, i, :])\n",
    "    print('CMC (Euler scheme)')\n",
    "    print(bias_comp[2, i, :])\n",
    "#     print('Exact MC')\n",
    "#     print(bias_comp[3, i, :])\n",
    "    print('AE MC')\n",
    "    print(bias_comp[4, i, :])\n",
    "    print('Running time is %.3f seconds.' % (end - start) + '\\n')"
   ]
  },
  {
   "cell_type": "code",
   "execution_count": null,
   "metadata": {},
   "outputs": [],
   "source": []
  },
  {
   "cell_type": "code",
   "execution_count": null,
   "metadata": {},
   "outputs": [],
   "source": [
    "# exact mc to be added\n",
    "# almost exact mc to be checked"
   ]
  },
  {
   "cell_type": "code",
   "execution_count": null,
   "metadata": {},
   "outputs": [],
   "source": []
  },
  {
   "cell_type": "markdown",
   "metadata": {},
   "source": [
    "## Von's (2008) example, with multiple spots and single strike"
   ]
  },
  {
   "cell_type": "code",
   "execution_count": 25,
   "metadata": {},
   "outputs": [],
   "source": [
    "# Example\n",
    "# Von (2018), multiple forward, single strike\n",
    "strike = [100.0]\n",
    "forward = [75, 100, 125]\n",
    "delta = [1, 1/2, 1/4, 1/8, 1/16, 1/32]\n",
    "case = np.zeros([3, 7])\n",
    "vov = 1\n",
    "kappa = 2.58\n",
    "rho = -0.36\n",
    "texp = 1\n",
    "theta = 0.043\n",
    "sigma = np.sqrt(0.114)\n",
    "r = 0\n",
    "ref_price = np.array([0.908502728459621, 9.046650119220969, 28.514786399298796])"
   ]
  },
  {
   "cell_type": "code",
   "execution_count": 26,
   "metadata": {},
   "outputs": [
    {
     "name": "stdout",
     "output_type": "stream",
     "text": [
      "price:\n",
      "[[ 1.27319137  9.70410464 27.35193984]\n",
      " [ 0.83996433  8.9707479  28.63384499]\n",
      " [ 0.89533596  8.9907661  28.59657732]\n",
      " [ 0.90615288  9.03174875 28.54093534]\n",
      " [ 0.90845173  9.04386541 28.52525734]\n",
      " [ 0.90900531  9.04605687 28.51204355]]\n",
      "bias:\n",
      "[[ 0.36468864  0.65745452 -1.16284656]\n",
      " [-0.0685384  -0.07590222  0.11905859]\n",
      " [-0.01316676 -0.05588402  0.08179092]\n",
      " [-0.00234985 -0.01490137  0.02614895]\n",
      " [-0.000051   -0.00278471  0.01047094]\n",
      " [ 0.00050258 -0.00059325 -0.00274285]]\n",
      "Running time is 385.310 seconds.\n",
      "\n"
     ]
    }
   ],
   "source": [
    "# compute conditional mc price and bias\n",
    "# for cases with single strike and multiple forward\n",
    "price_cmc = np.zeros([len(delta), len(forward)])\n",
    "bias_cmc = np.zeros([len(delta), len(forward)])\n",
    "start = time.time()\n",
    "for i in range(len(forward)):\n",
    "    heston_cmc_qe = heston.HestonCondMcQE(vov=vov, kappa=kappa, rho=rho, theta=theta)\n",
    "    \n",
    "    for d in range(len(delta)):\n",
    "        price_cmc[d, i] = heston_cmc_qe.price(strike, forward[i], texp, sigma=sigma, delta=delta[d], intr=r, path=1e6, seed=123456)\n",
    "        bias_cmc[d, i] = price_cmc[d, i] - ref_price[i]\n",
    "\n",
    "end = time.time()\n",
    "np.set_printoptions(suppress=True)\n",
    "print('price:')\n",
    "print(price_cmc)\n",
    "print('bias:')\n",
    "print(bias_cmc)\n",
    "print('Running time is %.3f seconds.' % (end - start) + '\\n')"
   ]
  },
  {
   "cell_type": "code",
   "execution_count": null,
   "metadata": {},
   "outputs": [],
   "source": []
  },
  {
   "cell_type": "code",
   "execution_count": null,
   "metadata": {},
   "outputs": [],
   "source": []
  }
 ],
 "metadata": {
  "kernelspec": {
   "display_name": "Python 3",
   "language": "python",
   "name": "python3"
  },
  "language_info": {
   "codemirror_mode": {
    "name": "ipython",
    "version": 3
   },
   "file_extension": ".py",
   "mimetype": "text/x-python",
   "name": "python",
   "nbconvert_exporter": "python",
   "pygments_lexer": "ipython3",
   "version": "3.7.4"
  }
 },
 "nbformat": 4,
 "nbformat_minor": 2
}
