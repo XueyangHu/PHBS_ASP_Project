{
 "cells": [
  {
   "cell_type": "markdown",
   "metadata": {},
   "source": [
    "![avatar](http://emba.eduego.com/Uploads/Ueditor/image/20180130/1517298966389236.jpg)"
   ]
  },
  {
   "cell_type": "markdown",
   "metadata": {},
   "source": [
    "# Conditional MC of Heston Model & 3/2 Model based on QE Scheme"
   ]
  },
  {
   "cell_type": "markdown",
   "metadata": {},
   "source": [
    "## QE Discretization Scheme for Heston Model "
   ]
  },
  {
   "cell_type": "markdown",
   "metadata": {},
   "source": [
    "<font color=black size=3 face=times>**Main references**: <br>\n",
    "         Andersen, L. (2008). Simple and efficient simulation of the Heston stochastic volatility model. *The Journal of Computational Finance, 11*(3), 1–42. https://doi.org/10.21314/JCF.2008.189 <br>\n",
    "        Van Haastrecht, A., & Pelsser, A. (2010). Efficient, almost exact simulation of the heston stochastic volatility model. *International Journal of Theoretical and Applied Finance, 13*(01), 1–43. https://doi.org/10.1142/S0219024910005668 <br>\n",
    "     Von Sydow, L., Milovanović, S., Larsson, E., In't Hout, K., Wiktorsson, M., Oosterlee, C. W., ... & Waldén, J. (2019). BENCHOP–SLV: the BENCHmarking project in Option Pricing–Stochastic and Local Volatility problems. *International Journal of Computer Mathematics, 96*(10), 1910-1923.\n",
    "    Baldeaux, J. (2012). Exact simulation of the 3/2 model. *International Journal of Theoretical and Applied Finance, 15*(05), 1250032."
   ]
  },
  {
   "cell_type": "markdown",
   "metadata": {},
   "source": [
    "<font color=black size=3 face=times>**1.1. Notation declaration**<br>\n",
    "The SDE of Heston model expressed by:\n",
    "    <br/>\n",
    "    \\begin{align*}\n",
    "    &dX(t)/X(t)=\\sqrt{V(t)}dW_X(t) ,\\\\\n",
    "    &dV(t)=\\kappa(\\theta-V(t))dt+\\epsilon\\sqrt{V(t)}dW_V(t),\n",
    "    \\end{align*} \n",
    "- $W_X$ and $W_V$ are scalar Brownian motions in some probability measure and assume that $dW_X(t)\\dot dW_Y(t)=\\rho dt$  \n",
    "- $\\widehat{X}$ and $\\widehat{V}$ denote discrete-time approximations to $X$ and $V$, i.e. The basic **Euler Scheme** would take the form:\n",
    " \\begin{align*}\n",
    "    ln\\widehat{X}(t+\\Delta)&=ln\\widehat{X}(t)-\\frac{1}{2}\\widehat{V}(t)\\Delta+\\sqrt{\\widehat{V}(t)}Z_X\\sqrt{\\Delta} ,\\\\\n",
    "    ln\\widehat{V}(t+\\Delta)&=\\widehat{V}(t)+\\kappa(\\theta-\\widehat{V}(t))\\Delta+\\epsilon\\sqrt{\\widehat{V}(t)}Z_V\\sqrt{\\Delta},\n",
    "    \\end{align*}  \n",
    "- $V(t),V(t+\\Delta)$ are sampled directly from the known conditional distribution of $V(t)$ and $lnX(t),lnX(t+\\Delta)$ are from Gaussian distribution. "
   ]
  },
  {
   "cell_type": "markdown",
   "metadata": {},
   "source": [
    "<font color=black size=3 face=times>**1.2. QE Scheme**<br>\n",
    "    &emsp;&emsp; For the non-central chi-square distribution approaches a Gaussian distribution as the non-centrality paremeter approaches $\\infty$, but for small $V(t)$, the non-centrality parameter approaches zero, and the Gaussian variable is typically not accurate.<br>\n",
    "    &emsp;&emsp;Let:\n",
    "    \\begin{align*}\n",
    "    m&=\\theta+(\\widehat{V}(t)-\\theta)e^{-\\kappa\\Delta},\\tag{$1.1$}\\\\\n",
    "    s^2&=\\frac{\\widehat{V}(t)\\epsilon^2 e^{-\\kappa\\Delta}}{\\kappa}(1-e^{-\\kappa\\Delta})+\\frac{\\theta\\epsilon^2}{2\\kappa}(1-e^{-\\kappa\\Delta})^2,\\tag{$1.2$}\\\\\n",
    "    \\Psi&\\equiv s^2/m^2 =\\frac{\\frac{\\widehat{V}(t)\\epsilon^2 e^{-\\kappa\\Delta}}{\\kappa}(1-e^{-\\kappa\\Delta})+\\frac{\\theta\\epsilon^2}{2\\kappa}(1-e^{-\\kappa\\Delta})^2}{(\\theta+(\\widehat{V}(t)-\\theta)e^{-\\kappa\\Delta})^2}, \\tag{$1.3$}\n",
    "    \\end{align*}\n",
    "    &emsp;&emsp; For sufficiently large values of $\\widehat{V}(t)$, we write:\n",
    "    $$\\widehat{V}(t+\\Delta)=a(b+Z_V)^2,\\tag{$1.4$}$$\n",
    "    &emsp;&emsp; For low values of $\\widehat{V}(t)$, we use asymptotic density and approximated density for $\\widehat{V}(t+\\Delta)$, we have the form:\n",
    "        $$\\Psi^{-1}(u)=\\Psi^{-1}(u;p,\\beta)=\\left\\{\n",
    "\\begin{aligned}\n",
    "&0,  & 0\\le u\\le p \\\\\n",
    "&\\beta^{-1}ln(\\frac{1-p}{1-u}),& p<u\\le1.\n",
    "\\end{aligned},\\tag{$1.5$}\n",
    "\\right.\n",
    "$$\n",
    "    &emsp;&emsp; The scheme varies when $\\Psi$ is big and when $\\Psi$ is small.<br>\n",
    "    &emsp;&emsp; Assume that some arbitrary level $\\Psi_c\\in [1,2]$ has beem selected. The detailed algorithm for the QE simulation step from $\\widehat{V}(t)$ to $\\widehat{V}(t+\\Delta)$ is then:<br>\n",
    "    &emsp;&emsp;1. Given $\\widehat{V}(t)$, compute $m$ and $s^2$ from the equations (1.1) and (1.2).<br>\n",
    "    &emsp;&emsp;2. Compute $\\Psi=s^2/m^2$<br>\n",
    "    &emsp;&emsp;3. Draw a uniform random number $U_V$<br>\n",
    "    &emsp;&emsp;4. **If** $\\Psi\\leq \\Psi_c$:<br>\n",
    "    &emsp;&emsp;&emsp;&emsp;(a) Compute a and b as:\n",
    "    \\begin{align*}\n",
    "    &b^2=2\\Psi^{-1}-1+\\sqrt{2\\Psi^{-1}}\\sqrt{{2\\Psi^{-1}-1}}\\ge 0,\\tag{$1.6$}\\\\\n",
    "    &a=\\frac{m}{1+b^2},\\tag{$1.7$}\\\\\n",
    "    \\end{align*}\n",
    "    &emsp;&emsp;&emsp;&emsp;(b) Compute $Z_V=\\Phi^{-1}(U_V)$<br>\n",
    "    &emsp;&emsp;&emsp;&emsp;(c) Set $\\widehat{V}(t+\\Delta)=a(b+Z_V)^2$<br>\n",
    "    &emsp;&emsp;5.**Otherwise**, if $\\Psi>\\Psi_c$:<br>\n",
    "    &emsp;&emsp;&emsp;&emsp;(a) Compute $\\beta$ and $p$ as:\n",
    "    \\begin{align*}\n",
    "    &p=\\frac{\\Psi-1}{\\Psi+1}\\in [0,1),\\tag{$1.8$}\\\\\n",
    "    &\\beta=\\frac{1-p}{m}=\\frac{2}{m(\\Psi+1)}>0,\\tag{$1.9$}\\\\\n",
    "    \\end{align*}\n",
    "    &emsp;&emsp;&emsp;&emsp;(b) Set $\\widehat{V}(t+\\Delta)=\\Psi^{-1}(U_V;p,\\beta)$, where $\\Psi^{-1}$ is given at (1.5)<br>\n",
    "    &emsp;&emsp; After simulating the path, calculate:\n",
    "\\begin{align*}\n",
    "     E\\left(S_T|V(T),\\int V(t)dt\\right)&=S_0 exp\\left(\\frac{\\rho}{\\nu}(V(T)-V(0))-\\kappa(\\theta-\\int_{0}^{T}V(t)dt)\\right),\\tag{$1.10$}\\\\\n",
    "     \\sigma&=\\left((1-\\rho^2)\\int_{0}^{T}V(t)dt\\right)^{\\frac{1}{2}},\\tag{$1.11$}\\\\\n",
    "    \\end{align*}\n",
    "    &emsp;&emsp; Then bring the Forward price and volatility into the option pricing model."
   ]
  },
  {
   "cell_type": "markdown",
   "metadata": {},
   "source": [
    "<font color=black size=3 face=times>**1.3. TG Scheme**<br>\n",
    "        &emsp;&emsp; The TG (Truncated Gaussian) Scheme writes\n",
    "    $$\\widehat{V}(t+\\Delta)=(\\mu+\\sigma\\dot Z_V)^{+},\\tag{$1.12$}$$\n",
    "    &emsp;&emsp; where $Z_V$ is a standart Gaussian random variable, and $\\mu$ and $\\sigma$ are constants that will depend on the time-step $\\Delta$ and $\\widehat{V}(t)$, as well as the parameters in the SDE for $V$.<br>\n",
    "    &emsp;&emsp; Define the ratio $r=\\mu/\\sigma$, match the mean to $m$ results in:\n",
    "    $$\\mu=\\frac{m}{r^{-1}\\phi(r)+\\Phi(r)};\\quad \\sigma=r^{-1}\\mu=\\frac{m}{\\phi(r)+r\\Phi(r)}$$\n",
    "    &emsp;&emsp; where $\\phi$ is pdf of normal distribution and $\\Phi$ is cdf of normal distribution.\n",
    "    \\begin{align*}\n",
    "    &\\mu=f_{\\mu}(\\Psi)\\cdot m,\\quad f_{\\mu}(\\Psi)=\\frac{r(\\Psi)}{\\phi(r(\\Psi))+r(\\Psi)\\Phi(r(\\Psi))},\\tag{$1.13$}\\\\\n",
    "    &\\sigma=f_{\\sigma}(\\Psi)\\cdot s,\\quad f_{\\sigma}(\\Psi)=\\frac{\\Psi^{-1/2}}{\\phi(r(\\Psi))+r(\\Psi)\\Phi(r(\\Psi))},\\tag{$1.14$}\n",
    "    \\end{align*}\n",
    "    &emsp;&emsp;The detailed algorithm for the TG simulation step from $\\widehat{V}(t)$ to $\\widehat{V}(t+\\Delta)$ is as follows:<br>\n",
    "    &emsp;&emsp;1.Given $\\widehat{V}(t)$, compute $m$ and $s^2$ from (1.1) and (1.2).<br>\n",
    "    &emsp;&emsp;2.Compute $\\Psi=s^2/m^2$ and look up $f_{\\mu}(\\Psi)$ and $f_{\\sigma}(\\Psi)$ from cache<br>\n",
    "    &emsp;&emsp;3.Compute $\\mu$ and $\\sigma$ according to equations (1.13) and (1.14)<br>\n",
    "    &emsp;&emsp;4.Compute $Z_V=\\Phi^{-1}(U_V)$<br>\n",
    "    &emsp;&emsp;5.Set $\\widehat{V}(t+\\Delta)=(\\mu+\\sigma\\dot Z_V)^{+}$"
   ]
  },
  {
   "cell_type": "markdown",
   "metadata": {},
   "source": [
    "<font color=black size=3 face=times>**1.4. General discrete-time approximation schemes**<br>\n",
    "    &emsp;&emsp;<font color=black size=3 face=times>**Kahl-Jackel Scheme**<br>\n",
    "    &emsp;&emsp;Using Milstein scheme to discretize the V-process and \"IJK\" discretization for the stock process:\n",
    "    \\begin{align*}\n",
    "    ln\\widehat{X}(t+\\Delta)&=ln\\widehat{X}(t)-\\frac{\\Delta}{4}(\\widehat{V}(t+\\Delta)+\\widehat{V}(t))+\\rho\\sqrt{\\widehat{V}(t)}Z_V\\sqrt{\\Delta}+\\frac{1}{2}\\left(\\sqrt{\\widehat{V}(t+\\Delta)}+\\sqrt{\\widehat{V}(t)}\\right)(Z_X\\sqrt{\\Delta}-\\rho Z_V\\sqrt{\\Delta})+\\frac{1}{4}\\epsilon\\rho\\Delta(Z_V^2-1),\\tag{$1.15$}\\\\\n",
    "    \\widehat{V}(t+\\Delta) &= \\frac{\\widehat{V}(t)+\\kappa\\theta\\Delta+\\epsilon\\sqrt{\\widehat{V}(t)}Z_V\\sqrt{\\Delta}+\\frac{1}{4}\\epsilon^2\\Delta(Z_V^2-1)}{1+\\kappa\\Delta}, \\tag{$1.16$}\n",
    "    \\end{align*}\n",
    "    <br/>\n",
    "    &emsp;&emsp;<font color=black size=3 face=times>**Broadie-Kaya Scheme**<br>\n",
    "\\begin{align*}\n",
    "    V(t+\\Delta)&=V(t)+\\int_{t}^{t+\\Delta}\\kappa(\\theta-V(u))du+\\epsilon \\int_{t}^{t+\\Delta}\\sqrt{V(u)}dW_V(u) ,\\tag{$1.17$}\\\\\n",
    "    lnX(t+\\Delta)&=lnX(t)+\\frac{\\rho}{\\epsilon}(V(t+\\Delta)-V(t)-\\kappa\\theta\\Delta)+(\\frac{\\kappa\\rho}{\\epsilon}-\\frac{1}{2})\\int_{t}^{t+\\Delta}V(u)du+\\sqrt{1-\\rho^2}\\int_{t}^{t+\\Delta}\\sqrt{V(u)}dW(u), \\tag{$1.18$}\n",
    "    \\end{align*}"
   ]
  },
  {
   "cell_type": "markdown",
   "metadata": {},
   "source": [
    "<font color=black size=3 face=times>**1.5. Compare with QE-M method result given by Van (2010)**<br>\n",
    "&emsp;&emsp; The estimated call option prices bias for case I:"
   ]
  },
  {
   "cell_type": "markdown",
   "metadata": {},
   "source": [
    "|$\\Delta t$  | K=100 | K=140 | K=60 |\n",
    "| :-----:| :----: | :----: |:----: |\n",
    "| 1 | -0.222 | 0.084 |  -0.027 | \n",
    "| 1/2 | -0.110 | 0.025 |0.047 |\n",
    "| 1/4 | -0.008* | 0.001* |0.039 |\n",
    "| 1/8 | 0.023 | -0.002* |0.030 |\n",
    "| 1/16 | 0.018* | 0.000* |0.023 |\n",
    "| 1/32 | 0.015* | -0.002* |0.011* |"
   ]
  },
  {
   "cell_type": "markdown",
   "metadata": {},
   "source": [
    "<font color=black size=3 face=times>\n",
    "&emsp;&emsp; The estimated call option prices bias for case II:"
   ]
  },
  {
   "cell_type": "markdown",
   "metadata": {},
   "source": [
    "|$\\Delta t$  | K=100 | K=140 | K=60 |\n",
    "| :-----:| :----: | :----: |:----: |\n",
    "| 1 | 0.084 | 0.586 |  -0.128 | \n",
    "| 1/2 | 0.019* | 0.195 |-0.035 |\n",
    "| 1/4 | 0.026* | 0.051* |0.008* |\n",
    "| 1/8 | 0.015* | 0.029* |0.005* |\n",
    "| 1/16 | 0.020* | 0.031* |0.007* |\n",
    "| 1/32 | -0.003* | 0.000* |-0.009* |"
   ]
  },
  {
   "cell_type": "markdown",
   "metadata": {},
   "source": [
    "<font color=black size=3 face=times>\n",
    "&emsp;&emsp; The estimated call option prices bias for case III:"
   ]
  },
  {
   "cell_type": "markdown",
   "metadata": {},
   "source": [
    "|$\\Delta t$  | K=100 | K=140 | K=60 |\n",
    "| :-----:| :----: | :----: |:----: |\n",
    "| 1 | 0.451 | 0.269 |  -0.141 | \n",
    "| 1/2 | 0.131 | 0.010* |-0.040 |\n",
    "| 1/4 | 0.028* | -0.002* |0.007* |\n",
    "| 1/8 | 0.008* | 0.012* |0.020* |\n",
    "| 1/16 | -0.008* | -0.018* |0.007* |\n",
    "| 1/32 | 0.021* | 0.015* |0.017* |"
   ]
  },
  {
   "attachments": {},
   "cell_type": "markdown",
   "metadata": {},
   "source": []
  },
  {
   "cell_type": "code",
   "execution_count": 1,
   "metadata": {},
   "outputs": [],
   "source": [
    "import numpy as np\n",
    "import pandas as pd\n",
    "import heston_cmc_qe as heston\n",
    "import time\n",
    "import pyfeng as pf\n",
    "from tqdm import tqdm"
   ]
  },
  {
   "cell_type": "markdown",
   "metadata": {},
   "source": [
    "## Andersen's (2008) and Van's (2010) Heston model examples"
   ]
  },
  {
   "cell_type": "code",
   "execution_count": 2,
   "metadata": {},
   "outputs": [],
   "source": [
    "# Examples with multiple strikes and single spot\n",
    "# Andersen (2008)\n",
    "strike = [100.0, 140.0, 70.0]\n",
    "forward = 100\n",
    "delta = [1, 1/2, 1/4, 1/8, 1/16, 1/32]\n",
    "case = np.zeros([3, 7])\n",
    "#case[i]=[vov, kappa, rho, texp, theta,  sigma,     r]\n",
    "case[0] = [1,   0.5, -0.9, 10, 0.04, np.sqrt(0.04), 0]\n",
    "case[1] = [0.9, 0.3, -0.5, 15, 0.04, np.sqrt(0.04), 0]\n",
    "case[2] = [1,   1,   -0.3, 5,  0.09, np.sqrt(0.09), 0]"
   ]
  },
  {
   "cell_type": "code",
   "execution_count": 3,
   "metadata": {},
   "outputs": [],
   "source": [
    "# Van (2010)\n",
    "strike = [100.0, 140.0, 60.0]\n",
    "forward = 100\n",
    "delta = [1, 1/2, 1/4, 1/8, 1/16, 1/32]\n",
    "case = np.zeros([3, 7])\n",
    "#case[i]=[vov, kappa, rho, texp, theta,   sigma,    r]\n",
    "case[0] = [1,   0.5, -0.9, 10, 0.04, np.sqrt(0.04), 0]\n",
    "case[1] = [1,   1,   -0.3, 5,  0.09, np.sqrt(0.09), 0.05]\n",
    "case[2] = [0.9, 0.3, -0.5, 15, 0.04, np.sqrt(0.04), 0]\n",
    "ref_price = np.array([[13.085, 0.296, 44.330], [33.597, 18.157, 56.575], [16.649, 5.138, 45.287]])"
   ]
  },
  {
   "cell_type": "code",
   "execution_count": 4,
   "metadata": {},
   "outputs": [],
   "source": [
    "price_cmc = np.zeros([case.shape[0], len(delta), len(strike)])\n",
    "bias_cmc = np.zeros_like(price_cmc)"
   ]
  },
  {
   "cell_type": "markdown",
   "metadata": {},
   "source": [
    "### Compute price and bias"
   ]
  },
  {
   "cell_type": "markdown",
   "metadata": {},
   "source": [
    "When path=1e6, computation is time-consuming (especially for texp=15), separate the three cases to get stable computation"
   ]
  },
  {
   "cell_type": "code",
   "execution_count": null,
   "metadata": {},
   "outputs": [],
   "source": [
    "i = 0\n",
    "vov, kappa, rho, texp, theta, sigma, r = case[i]\n",
    "\n",
    "start = time.time()\n",
    "heston_cmc_qe = heston.HestonCondMcQE(vov=vov, kappa=kappa, rho=rho, theta=theta)\n",
    "\n",
    "for d in range(len(delta)):\n",
    "    price_cmc[i, d, :] = heston_cmc_qe.price(strike, forward, texp, sigma=sigma, delta=delta[d], intr=r, path=1e6, seed=123456)\n",
    "    bias_cmc[i, d, :] = price_cmc[i, d, :] - ref_price[i, :]\n",
    "\n",
    "end = time.time()\n",
    "\n",
    "print('Case %s:\\n' % i + 'price')\n",
    "print(price_cmc[i, :, :])\n",
    "print('bias')\n",
    "np.set_printoptions(suppress=True)\n",
    "print(bias_cmc[i, :, :])\n",
    "print('Running time is %.3f seconds.' % (end - start) + '\\n')"
   ]
  },
  {
   "cell_type": "code",
   "execution_count": null,
   "metadata": {},
   "outputs": [],
   "source": [
    "i = 1\n",
    "vov, kappa, rho, texp, theta, sigma, r = case[i]\n",
    "\n",
    "start = time.time()\n",
    "heston_cmc_qe = heston.HestonCondMcQE(vov=vov, kappa=kappa, rho=rho, theta=theta)\n",
    "\n",
    "for d in range(len(delta)):\n",
    "    price_cmc[i, d, :] = heston_cmc_qe.price(strike, forward, texp, sigma=sigma, delta=delta[d], intr=r, path=1e6, seed=123456)\n",
    "    bias_cmc[i, d, :] = price_cmc[i, d, :] - ref_price[i, :]\n",
    "\n",
    "end = time.time()\n",
    "\n",
    "print('Case %s:\\n' % i + 'price')\n",
    "print(price_cmc[i, :, :])\n",
    "print('bias')\n",
    "print(bias_cmc[i, :, :])\n",
    "print('Running time is %.3f seconds.' % (end - start) + '\\n')"
   ]
  },
  {
   "cell_type": "code",
   "execution_count": null,
   "metadata": {},
   "outputs": [],
   "source": [
    "# take quite a long time to compute when path=1e6, try 1e5 first\n",
    "i = 2\n",
    "vov, kappa, rho, texp, theta, sigma, r = case[i]\n",
    "\n",
    "start = time.time()\n",
    "heston_cmc_qe = heston.HestonCondMcQE(vov=vov, kappa=kappa, rho=rho, theta=theta)\n",
    "\n",
    "for d in range(len(delta)):\n",
    "    price_cmc[i, d, :] = heston_cmc_qe.price(strike, forward, texp, sigma=sigma, delta=delta[d], intr=r, path=1e5, seed=123456)\n",
    "    bias_cmc[i, d, :] = price_cmc[i, d, :] - ref_price[i, :]\n",
    "\n",
    "end = time.time()\n",
    "\n",
    "print('Case %s:\\n' % i + 'price')\n",
    "print(price_cmc[i, :, :])\n",
    "print('bias')\n",
    "print(bias_cmc[i, :, :])\n",
    "print('Running time is %.3f seconds.' % (end - start) + '\\n')"
   ]
  },
  {
   "cell_type": "markdown",
   "metadata": {},
   "source": [
    "### Compute std error of price"
   ]
  },
  {
   "cell_type": "code",
   "execution_count": null,
   "metadata": {},
   "outputs": [],
   "source": [
    "n = 50\n",
    "for i in range(case.shape[0]):\n",
    "    start = time.time()\n",
    "    vov, kappa, rho, texp, theta, sigma, r = case[i]\n",
    "\n",
    "    heston_cmc_qe = heston.HestonCondMcQE(vov=vov, kappa=kappa, rho=rho, theta=theta)\n",
    "    price_cmc = np.zeros([n, len(delta), len(strike)])\n",
    "    for j in range(n):\n",
    "        for d in range(len(delta)):\n",
    "            price_cmc[j, d, :] = heston_cmc_qe.price(strike, forward, texp, sigma=sigma, delta=delta[d], intr=r, path=1e4)\n",
    "            \n",
    "    end = time.time()\n",
    "    print('Case %s:' % i)\n",
    "    print('computed price')\n",
    "    print(price_cmc.mean(axis=0))\n",
    "    print('std error of price')\n",
    "    print(price_cmc.std(axis=0))\n",
    "    print('Running time is %.3f seconds.' % (end - start) + '\\n')"
   ]
  },
  {
   "cell_type": "markdown",
   "metadata": {},
   "source": [
    "### Compare the model with {Conditional MC with TG/Euler Scheme, Exact MC, Almost Exact MC}"
   ]
  },
  {
   "cell_type": "code",
   "execution_count": null,
   "metadata": {},
   "outputs": [],
   "source": [
    "# from comparison import heston_exact\n",
    "# from comparison import heston_ae as heston_mc_ae"
   ]
  },
  {
   "cell_type": "code",
   "execution_count": null,
   "metadata": {},
   "outputs": [],
   "source": [
    "delta = 1/32\n",
    "path = int(1e5)\n",
    "n_comp = 4\n",
    "price_comp = pd.DataFrame(np.zeros([len(strike), n_comp]), index=strike, columns=['QE', 'TG', 'Euler', 'Milstein'])\n",
    "bias_comp = pd.DataFrame(np.zeros([len(strike), n_comp]), index=strike, columns=['QE', 'TG', 'Euler', 'Milstein'])"
   ]
  },
  {
   "cell_type": "code",
   "execution_count": null,
   "metadata": {},
   "outputs": [],
   "source": [
    "for i in range(case.shape[0]):\n",
    "    vov, kappa, rho, texp, theta, sigma, r = case[i]\n",
    "    \n",
    "    start = time.time()\n",
    "    heston_cmc_qe = heston.HestonCondMcQE(vov=vov, kappa=kappa, rho=rho, theta=theta)\n",
    "#     heston_ae = heston_mc_ae.HestonMCAe(vov, kappa, rho, theta, r)\n",
    "#     heston_exact = \n",
    "    \n",
    "    price_comp['QE'] = heston_cmc_qe.price(strike, forward, texp, sigma=sigma, delta=delta, intr=r, path=path, seed=123456, scheme='QE')\n",
    "    bias_comp['QE'] = price_comp['QE'] - ref_price[i, :]\n",
    "    \n",
    "    price_comp['TG'] = heston_cmc_qe.price(strike, forward, texp, sigma=sigma, delta=delta, intr=r, path=path, seed=123456, scheme='TG')\n",
    "    bias_comp['TG'] = price_comp['TG'] - ref_price[i, :]\n",
    "    \n",
    "    price_comp['Euler'] = heston_cmc_qe.price(strike, forward, texp, sigma=sigma, delta=delta, intr=r, path=path, seed=123456, scheme='Euler')\n",
    "    bias_comp['Euler'] = price_comp['Euler'] - ref_price[i, :]\n",
    "    \n",
    "    price_comp['Milstein'] = heston_cmc_qe.price(strike, forward, texp, sigma=sigma, delta=delta, intr=r, path=path, seed=123456, scheme='Milstein')\n",
    "    bias_comp['Milstein'] = price_comp['Milstein'] - ref_price[i, :]\n",
    "\n",
    "    end = time.time()\n",
    "    \n",
    "    print('Case %s:' % i)\n",
    "    print(bias_comp)\n",
    "    print('Running time is %.3f seconds.' % (end - start) + '\\n')"
   ]
  },
  {
   "cell_type": "code",
   "execution_count": null,
   "metadata": {},
   "outputs": [],
   "source": [
    "# exact mc to be added\n",
    "# almost exact mc to be checked"
   ]
  },
  {
   "cell_type": "code",
   "execution_count": null,
   "metadata": {},
   "outputs": [],
   "source": []
  },
  {
   "cell_type": "markdown",
   "metadata": {},
   "source": [
    "## Von's (2008) Heston model example"
   ]
  },
  {
   "cell_type": "code",
   "execution_count": null,
   "metadata": {},
   "outputs": [],
   "source": [
    "# Example with multiple spots and single strike\n",
    "# Von (2018), multiple forward, single strike\n",
    "strike = [100.0]\n",
    "forward = [75, 100, 125]\n",
    "delta = [1, 1/2, 1/4, 1/8, 1/16, 1/32]\n",
    "case = np.zeros([3, 7])\n",
    "vov = 1\n",
    "kappa = 2.58\n",
    "rho = -0.36\n",
    "texp = 1\n",
    "theta = 0.043\n",
    "sigma = np.sqrt(0.114)\n",
    "r = 0\n",
    "ref_price = np.array([0.908502728459621, 9.046650119220969, 28.514786399298796])"
   ]
  },
  {
   "cell_type": "code",
   "execution_count": null,
   "metadata": {
    "scrolled": true
   },
   "outputs": [],
   "source": [
    "# compute conditional mc price and bias\n",
    "# for cases with single strike and multiple forward\n",
    "price_cmc = np.zeros([len(delta), len(forward)])\n",
    "bias_cmc = np.zeros([len(delta), len(forward)])\n",
    "start = time.time()\n",
    "for i in range(len(forward)):\n",
    "    heston_cmc_qe = heston.HestonCondMcQE(vov=vov, kappa=kappa, rho=rho, theta=theta)\n",
    "    \n",
    "    for d in range(len(delta)):\n",
    "        price_cmc[d, i] = heston_cmc_qe.price(strike, forward[i], texp, sigma=sigma, delta=delta[d], intr=r, path=1e6, seed=123456)\n",
    "        bias_cmc[d, i] = price_cmc[d, i] - ref_price[i]\n",
    "\n",
    "end = time.time()\n",
    "np.set_printoptions(suppress=True)\n",
    "print('price')\n",
    "print(price_cmc)\n",
    "print('bias')\n",
    "print(bias_cmc)\n",
    "print('Running time is %.3f seconds.' % (end - start) + '\\n')"
   ]
  },
  {
   "cell_type": "code",
   "execution_count": null,
   "metadata": {},
   "outputs": [],
   "source": []
  },
  {
   "cell_type": "markdown",
   "metadata": {},
   "source": [
    "# Conditional MC of 3/2 Model based on QE Scheme"
   ]
  },
  {
   "cell_type": "markdown",
   "metadata": {},
   "source": [
    "## QE Discretization Scheme for 3/2 Model "
   ]
  },
  {
   "cell_type": "markdown",
   "metadata": {},
   "source": [
    "<font color=black size=3 face=times>**2.1.Derive 3/2 model from heston model**: <br>\n",
    "    &emsp;&emsp;The stock price and volatility can be written as:\n",
    "    \\begin{align*}\n",
    "    &dv_t=\\kappa v_t(\\theta-v_t)dt+\\nu v_t^{3/2}dZ_t,\\tag{$2.1$}\\\\\n",
    "    &\\frac{dS_t}{S_t}=\\sigma_t dW_t=\\sigma_t(\\rho dZ_t+\\rho_{*}dX_t),\\tag{$2.2$}\\\\\n",
    "    \\end{align*}\n",
    "&emsp;&emsp;where $\\rho_{*}=\\sqrt{1-\\rho^2},v_t=\\sigma_t^2$<br>\n",
    "    &emsp;&emsp;Changing variable $x_t=1/v_t$, then we have:\n",
    "    $$dx_t=-\\frac{dv_t}{v_t^2}+\\frac{(dv_t)^2}{v_t^3}=(\\kappa+\\nu^2-\\kappa\\theta x_t)dt-\\nu \\sqrt{x_t}dZ_t,\\tag{$2.3$}$$\n",
    "    &emsp;&emsp;Then it's equal to Heston model with new parameters:\n",
    "    $$\\nu^{'}=-\\nu,\\quad\\kappa^{'}=\\kappa \\theta,\\quad\\text{and} \\quad\\theta^{'}=(\\kappa+\\nu^2)/(\\kappa\\theta)$$\n",
    "   &emsp;&emsp; We can calculate $S_T$ by:\n",
    "   \\begin{align*}\n",
    "    dln(X_t)&=\\left(\\frac{\\kappa+\\nu^2/2}{x_t}-\\kappa\\theta\\right)dt-\\frac{\\nu}{\\sqrt{x_t}}dZ_t,\\tag{$2.4$}\\\\\n",
    "    \\int_{0}^{T}\\frac{1}{\\sqrt{x_t}}dZ_t&=\\frac{1}{\\nu}\\left(log\\left(\\frac{x_0}{x_T}\\right)+(\\kappa+\\frac{\\nu^2}{2})V_T-\\kappa\\theta T\\right),\\tag{$2.5$}\\\\\n",
    "    log\\left(\\frac{S_T}{S_0}\\right)&=\\frac{\\rho}{\\nu}-\\kappa(T\\theta-\\left(1+\\frac{\\nu^2}{2\\kappa}V_T\\right))-\\frac{1}{2}V_T+\\rho_{*}\\sqrt{V_T}U\n",
    "    \\end{align*} \n",
    "    &emsp;&emsp;Where $V_T=\\int_{0}^{T}v_tdt$ and $U \\sim N(0,1)$<br>\n",
    "    &emsp;&emsp;Then we calculate:\n",
    "    \\begin{align*}\n",
    "    E\\left(S_T|v_T,V_T\\right)&=S_0exp\\left(\\frac{\\rho}{\\nu}\\left(log(\\frac{V_T}{V_0})-\\kappa\\left(T\\theta-(1+\\frac{\\nu^2}{2\\kappa})V_T)\\right)\\right)-\\frac{1}{2}\\rho^2V_T\\right),\\tag{$2.6$}\\\\\n",
    "    \\sigma&=\\left((1-\\rho^2)V_T\\right)^{\\frac{1}{2}},\\tag{$2.7$}\n",
    "    \\end{align*} "
   ]
  },
  {
   "cell_type": "code",
   "execution_count": null,
   "metadata": {},
   "outputs": [],
   "source": [
    "import numpy as np\n",
    "import pandas as pd\n",
    "import sv32_cmc_qe as sv32\n",
    "import time\n",
    "import pyfeng as pf\n",
    "import matplotlib.pyplot as plt\n",
    "from tqdm import tqdm"
   ]
  },
  {
   "cell_type": "markdown",
   "metadata": {},
   "source": [
    "## IRO et al.'s (2020) 3/2 model example"
   ]
  },
  {
   "cell_type": "code",
   "execution_count": null,
   "metadata": {},
   "outputs": [],
   "source": [
    "# IRO et al(2020)\n",
    "strike = [95.0, 100, 105]\n",
    "forward = 100\n",
    "delta = [1/32, 1/64, 1/128, 1/256, 1/512, 1/1024]\n",
    "\n",
    "case = np.zeros([4, 7])\n",
    "#case[i]=[vov,   kappa,  rho,  texp, theta,    sigma,      r]\n",
    "case[0] = [8.56, 22.84, -0.99, 0.5,  0.218, np.sqrt(0.06), 0]\n",
    "case[1] = [8.56, 18.32, -0.99, 0.5,  0.218, np.sqrt(0.06), 0]\n",
    "case[2] = [3.20, 19.76, -0.99, 0.5,  0.218, np.sqrt(0.06), 0]\n",
    "case[3] = [3.20, 20.48, -0.99, 0.5,  0.218, np.sqrt(0.06), 0]\n",
    "ref_price = np.array([[10.364, 7.386, 4.938], [10.055, 7.042, 4.586], [11.657, 8.926, 6.636], [11.724, 8.999, 6.710]])"
   ]
  },
  {
   "cell_type": "code",
   "execution_count": null,
   "metadata": {},
   "outputs": [],
   "source": [
    "price_sv32 = np.zeros([case.shape[0], len(delta), len(strike)])\n",
    "bias_sv32 = np.zeros_like(price_sv32)"
   ]
  },
  {
   "cell_type": "markdown",
   "metadata": {},
   "source": [
    "### Compute price and bias"
   ]
  },
  {
   "cell_type": "code",
   "execution_count": null,
   "metadata": {},
   "outputs": [],
   "source": [
    "i = 0\n",
    "vov, kappa, rho, texp, theta, sigma, r = case[i]\n",
    "start = time.time()\n",
    "sv32_cmc_qe = sv32.Sv32CondMcQE(vov=vov, kappa=kappa, rho=rho, theta=theta)\n",
    "for d in range(len(delta)):\n",
    "    price_sv32[i, d, :] = sv32_cmc_qe.price(strike, forward, texp, sigma=sigma, delta=delta[d], intr=r, path=1e5, seed=123456)\n",
    "    bias_sv32[i, d, :] = price_sv32[i, d, :] - ref_price[i, :]\n",
    "end = time.time()\n",
    "\n",
    "print('Case %s:\\n' % i + 'price')\n",
    "print(price_sv32[i, :, :])\n",
    "print('bias')\n",
    "print(bias_sv32[i, :, :])\n",
    "print('Running time is %.3f seconds.' % (end - start) + '\\n')"
   ]
  },
  {
   "cell_type": "code",
   "execution_count": null,
   "metadata": {},
   "outputs": [],
   "source": [
    "i = 1\n",
    "vov, kappa, rho, texp, theta, sigma, r = case[i]\n",
    "start = time.time()\n",
    "sv32_cmc_qe = sv32.Sv32CondMcQE(vov=vov, kappa=kappa, rho=rho, theta=theta)\n",
    "for d in range(len(delta)):\n",
    "    price_sv32[i, d, :] = sv32_cmc_qe.price(strike, forward, texp, sigma=sigma, delta=delta[d], intr=r, path=1e5, seed=123456)\n",
    "    bias_sv32[i, d, :] = price_sv32[i, d, :] - ref_price[i, :]\n",
    "end = time.time()\n",
    "\n",
    "print('Case %s:\\n' % i + 'price')\n",
    "print(price_sv32[i, :, :])\n",
    "print('bias')\n",
    "print(bias_sv32[i, :, :])\n",
    "print('Running time is %.3f seconds.' % (end - start) + '\\n')"
   ]
  },
  {
   "cell_type": "code",
   "execution_count": null,
   "metadata": {},
   "outputs": [],
   "source": [
    "i = 2\n",
    "vov, kappa, rho, texp, theta, sigma, r = case[i]\n",
    "start = time.time()\n",
    "sv32_cmc_qe = sv32.Sv32CondMcQE(vov=vov, kappa=kappa, rho=rho, theta=theta)\n",
    "for d in range(len(delta)):\n",
    "    price_sv32[i, d, :] = sv32_cmc_qe.price(strike, forward, texp, sigma=sigma, delta=delta[d], intr=r, path=1e5, seed=123456)\n",
    "    bias_sv32[i, d, :] = price_sv32[i, d, :] - ref_price[i, :]\n",
    "end = time.time()\n",
    "\n",
    "print('Case %s:\\n' % i + 'price')\n",
    "print(price_sv32[i, :, :])\n",
    "print('bias')\n",
    "print(bias_sv32[i, :, :])\n",
    "print('Running time is %.3f seconds.' % (end - start) + '\\n')"
   ]
  },
  {
   "cell_type": "code",
   "execution_count": null,
   "metadata": {},
   "outputs": [],
   "source": [
    "i = 3\n",
    "vov, kappa, rho, texp, theta, sigma, r = case[i]\n",
    "start = time.time()\n",
    "sv32_cmc_qe = sv32.Sv32CondMcQE(vov=vov, kappa=kappa, rho=rho, theta=theta)\n",
    "for d in range(len(delta)):\n",
    "    price_sv32[i, d, :] = sv32_cmc_qe.price(strike, forward, texp, sigma=sigma, delta=delta[d], intr=r, path=1e5, seed=123456)\n",
    "    bias_sv32[i, d, :] = price_sv32[i, d, :] - ref_price[i, :]\n",
    "end = time.time()\n",
    "\n",
    "print('Case %s:\\n' % i + 'price')\n",
    "print(price_sv32[i, :, :])\n",
    "print('bias')\n",
    "print(bias_sv32[i, :, :])\n",
    "print('Running time is %.3f seconds.' % (end - start) + '\\n')"
   ]
  },
  {
   "cell_type": "markdown",
   "metadata": {},
   "source": [
    "### Compute std error of price"
   ]
  },
  {
   "cell_type": "code",
   "execution_count": null,
   "metadata": {},
   "outputs": [],
   "source": [
    "# compute std error of conditional mc price\n",
    "n = 50\n",
    "for i in range(case.shape[0]):\n",
    "    start = time.time()\n",
    "    vov, kappa, rho, texp, theta, sigma, r = case[i]\n",
    "\n",
    "    sv32_cmc_qe = sv32.Sv32CondMcQE(vov=vov, kappa=kappa, rho=rho, theta=theta)\n",
    "    price_sv32 = np.zeros([len(delta), len(strike), n])\n",
    "    for j in tqdm(range(n)):\n",
    "        for d in range(len(delta)):\n",
    "            price_sv32[d, :, j] = sv32_cmc_qe.price(strike, forward, texp, sigma=sigma, delta=delta[d], intr=r, path=1e4)\n",
    "\n",
    "    end = time.time()\n",
    "    np.set_printoptions(suppress=True)\n",
    "    print('Case %s:' % i)\n",
    "    print(price_sv32.mean(axis=2))\n",
    "    print(price_sv32.std(axis=2))\n",
    "    print('Running time is %.3f seconds.' % (end - start) + '\\n')"
   ]
  },
  {
   "cell_type": "markdown",
   "metadata": {},
   "source": [
    "### Compare the model with {Conditional MC with TG Scheme, Exact MC, Almost Exact MC}"
   ]
  },
  {
   "cell_type": "code",
   "execution_count": null,
   "metadata": {},
   "outputs": [],
   "source": [
    "delta = 1/1024\n",
    "path = int(1e5)\n",
    "price = pd.DataFrame(np.zeros([len(strike), 3]), index=strike, columns=['QE', 'TG', 'Euler'])\n",
    "bias = pd.DataFrame(np.zeros([len(strike), 3]), index=strike, columns=['QE', 'TG', 'Euler'])\n",
    "\n",
    "for i in range(case.shape[0]):\n",
    "    vov, kappa, rho, texp, theta, sigma, r = case[i]\n",
    "    \n",
    "    start = time.time()\n",
    "    sv32_cmc_qe = sv32.Sv32CondMcQE(vov=vov, kappa=kappa, rho=rho, theta=theta)\n",
    "    \n",
    "    price['QE'] = sv32_cmc_qe.price(strike, forward, texp, sigma=sigma, delta=delta, intr=r, path=path, seed=123456, scheme='QE')\n",
    "    bias['QE'] = price['QE'] - ref_price[i, :]\n",
    "    \n",
    "    price['TG'] = sv32_cmc_qe.price(strike, forward, texp, sigma=sigma, delta=delta, intr=r, path=path, seed=123456, scheme='TG')\n",
    "    bias['TG'] = price['TG'] - ref_price[i, :]\n",
    "    \n",
    "    price['Euler'] = sv32_cmc_qe.price(strike, forward, texp, sigma=sigma, delta=delta, intr=r, path=path, seed=123456, scheme='Euler')\n",
    "    bias['Euler'] = price['TG'] - ref_price[i, :]\n",
    "\n",
    "    end = time.time()\n",
    "    \n",
    "    print('Case %s:' % i)\n",
    "    print(bias)\n",
    "    print('Running time is %.3f seconds.' % (end - start) + '\\n')"
   ]
  },
  {
   "cell_type": "code",
   "execution_count": null,
   "metadata": {},
   "outputs": [],
   "source": [
    "# exact MC & almost exact MC to be added"
   ]
  },
  {
   "cell_type": "code",
   "execution_count": null,
   "metadata": {},
   "outputs": [],
   "source": []
  },
  {
   "cell_type": "markdown",
   "metadata": {},
   "source": [
    "## Baldeaux's (2012) 3/2 model example"
   ]
  },
  {
   "cell_type": "code",
   "execution_count": null,
   "metadata": {},
   "outputs": [],
   "source": [
    "strike = [1]\n",
    "forward = 1\n",
    "delta = [1/32, 1/64, 1/128, 1/256, 1/512, 1/1024]\n",
    "vov, kappa, rho, texp, theta, sigma, r = [0.2,  2,  -0.5,  1,    1.5,    1,  0.05]\n",
    "ref_price = 0.443059"
   ]
  },
  {
   "cell_type": "code",
   "execution_count": null,
   "metadata": {},
   "outputs": [],
   "source": [
    "price_sv32 = np.zeros([len(delta), len(strike)])\n",
    "bias_sv32 = np.zeros_like(price_sv32)"
   ]
  },
  {
   "cell_type": "markdown",
   "metadata": {},
   "source": [
    "### Compute price and bias"
   ]
  },
  {
   "cell_type": "code",
   "execution_count": null,
   "metadata": {},
   "outputs": [],
   "source": [
    "start = time.time()\n",
    "sv32_cmc_qe = sv32.Sv32CondMcQE(vov=vov, kappa=kappa, rho=rho, theta=theta)\n",
    "for d in range(len(delta)):\n",
    "    price_sv32[d, :] = sv32_cmc_qe.price(strike, forward, texp, sigma=sigma, delta=delta[d], intr=r, path=1e5, seed=123456)\n",
    "    bias_sv32[d, :] = price_sv32[d, :] - ref_price\n",
    "end = time.time()\n",
    "\n",
    "print('price')\n",
    "print(price_sv32)\n",
    "print('bias')\n",
    "print(bias_sv32)\n",
    "print('Running time is %.3f seconds.' % (end - start) + '\\n')"
   ]
  },
  {
   "cell_type": "code",
   "execution_count": null,
   "metadata": {},
   "outputs": [],
   "source": []
  },
  {
   "cell_type": "code",
   "execution_count": null,
   "metadata": {},
   "outputs": [],
   "source": []
  }
 ],
 "metadata": {
  "kernelspec": {
   "display_name": "Python 3",
   "language": "python",
   "name": "python3"
  },
  "language_info": {
   "codemirror_mode": {
    "name": "ipython",
    "version": 3
   },
   "file_extension": ".py",
   "mimetype": "text/x-python",
   "name": "python",
   "nbconvert_exporter": "python",
   "pygments_lexer": "ipython3",
   "version": "3.7.4"
  }
 },
 "nbformat": 4,
 "nbformat_minor": 2
}
